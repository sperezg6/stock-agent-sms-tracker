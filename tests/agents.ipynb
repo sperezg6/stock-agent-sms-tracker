{
 "cells": [
  {
   "cell_type": "code",
   "execution_count": 37,
   "id": "d7050d92",
   "metadata": {},
   "outputs": [],
   "source": [
    "import finnhub\n",
    "import os\n",
    "from pydantic import BaseModel\n",
    "from dotenv import load_dotenv\n",
    "from typing import Optional\n",
    "import time\n",
    "\n",
    "load_dotenv()\n",
    "\n",
    "class StockPriceResponse(BaseModel):\n",
    "    current_price: float\n",
    "    previous_close: float\n",
    "    change: Optional[float] = None\n",
    "    change_percent: Optional[float] = None\n",
    "    high: Optional[float] = None\n",
    "    low: Optional[float] = None\n",
    "    open: Optional[float] = None\n",
    "\n",
    "def get_stock_price(symbol: str) -> StockPriceResponse:\n",
    "    \"\"\"\n",
    "    Get stock price using Finnhub API\n",
    "    \n",
    "    Args:\n",
    "        symbol: Stock ticker symbol (e.g., 'AAPL', 'GOOGL')\n",
    "    \n",
    "    Returns:\n",
    "        StockPriceResponse with current and previous close prices\n",
    "    \n",
    "    Raises:\n",
    "        Exception: If API call fails or returns invalid data\n",
    "    \"\"\"\n",
    "    # Initialize Finnhub client with API key from .env\n",
    "    api_key = os.getenv('FINHUB_API_KEY')\n",
    "    if not api_key:\n",
    "        raise ValueError(\"FINHUB_API_KEY not found in .env file\")\n",
    "    \n",
    "    finnhub_client = finnhub.Client(api_key=api_key)\n",
    "    \n",
    "    try:\n",
    "        # Get quote data for the symbol\n",
    "        quote = finnhub_client.quote(symbol.upper())\n",
    "        \n",
    "        # Check if we got valid data\n",
    "        if not quote or quote.get('c') is None:\n",
    "            raise ValueError(f\"No data available for symbol: {symbol}\")\n",
    "        \n",
    "        # Extract the data\n",
    "        current_price = quote['c']  # Current price\n",
    "        previous_close = quote['pc']  # Previous close\n",
    "        \n",
    "        # Create response with additional data if available\n",
    "        return StockPriceResponse(\n",
    "            current_price=current_price,\n",
    "            previous_close=previous_close,\n",
    "            change=quote.get('d'),  # Change ($)\n",
    "            change_percent=quote.get('dp'),  # Change (%)\n",
    "            high=quote.get('h'),  # Day high\n",
    "            low=quote.get('l'),  # Day low\n",
    "            open=quote.get('o')  # Day open\n",
    "        )\n",
    "        \n",
    "    except Exception as e:\n",
    "        raise Exception(f\"Failed to fetch stock price for {symbol}: {str(e)}\")\n"
   ]
  },
  {
   "cell_type": "code",
   "execution_count": 45,
   "id": "270f5eb6",
   "metadata": {},
   "outputs": [
    {
     "data": {
      "text/plain": [
       "StockPriceResponse(current_price=18.41, previous_close=16.16, change=2.25, change_percent=13.9233, high=18.735, low=16.3, open=16.34)"
      ]
     },
     "execution_count": 45,
     "metadata": {},
     "output_type": "execute_result"
    }
   ],
   "source": [
    "get_stock_price(\"LCID\")"
   ]
  },
  {
   "cell_type": "code",
   "execution_count": 46,
   "id": "efc142e0",
   "metadata": {},
   "outputs": [],
   "source": [
    "from agents import Agent, FileSearchTool, Runner, WebSearchTool, function_tool\n",
    "\n",
    "@function_tool\n",
    "async def fetch_stock_price(symbol: str) -> StockPriceResponse:\n",
    "    return get_stock_price(symbol)"
   ]
  },
  {
   "cell_type": "code",
   "execution_count": 50,
   "id": "ebda5c26",
   "metadata": {},
   "outputs": [],
   "source": [
    "from agents import Agent\n",
    "\n",
    "stock_research_agent = Agent(\n",
    "  name=\"Stock Research Agent\",\n",
    "  instructions=\"\"\"\n",
    "  You are a Stock Market Researcher. Your job is to research the current news around a specific stock and determine what may have caused recent price movements in the past 24 hours specifically. You have access to be able to retreive the stock price and research via the internet using your tools.\n",
    "\n",
    "  The stock that you are being asked to research has moved within the past 24 hours which has caused an automation to trigger your research. Make sure you have an explanation for the movement in the stock price.\n",
    "\n",
    "  You should use the fetch_stock_price tool to check current stock price, previous close, and other relevant data. Use the WebSearchTool to find recent news articles or information about the stock.\n",
    "\n",
    "  Output: Your final_output should be a the price, an short analysis of the price change and short summary of your findings that is no longer than 160 characters.\n",
    "  \"\"\",\n",
    "  tools=[\n",
    "    fetch_stock_price,\n",
    "    WebSearchTool()\n",
    "  ],\n",
    "  model=\"gpt-4.1\"\n",
    ")"
   ]
  },
  {
   "cell_type": "code",
   "execution_count": 51,
   "id": "00485267",
   "metadata": {},
   "outputs": [],
   "source": [
    "from agents import Runner\n",
    "\n",
    "async def main():\n",
    "    result = await Runner.run(stock_research_agent, \"LCID\")\n",
    "    print(result.final_output)"
   ]
  },
  {
   "cell_type": "code",
   "execution_count": 52,
   "id": "30c430e1",
   "metadata": {},
   "outputs": [
    {
     "name": "stderr",
     "output_type": "stream",
     "text": [
      "OPENAI_API_KEY is not set, skipping trace export\n"
     ]
    },
    {
     "name": "stdout",
     "output_type": "stream",
     "text": [
      "Lucid Group Inc. (LCID) shares rose 13.92% to $18.41, up $2.25 from the previous close of $16.16.\n",
      "\n",
      "This surge follows Uber's announcement of a $300 million investment in Lucid and a commitment to purchase over 20,000 autonomous-ready Gravity SUVs, marking a significant advancement in Lucid's autonomous vehicle initiatives. ([reuters.com](https://www.reuters.com/business/autos-transportation/uber-invest-300-million-ev-maker-lucid-part-robotaxi-deal-2025-07-17/?utm_source=openai))\n",
      "\n",
      "## Stock market information for Lucid Group Inc (LCID)\n",
      "- Lucid Group Inc is a equity in the USA market.\n",
      "- The price is 18.41 USD currently with a change of 2.25 USD (0.14%) from the previous close.\n",
      "- The latest open price was 16.3 USD and the intraday volume is 33386947.\n",
      "- The intraday high is 18.73 USD and the intraday low is 16.15 USD.\n",
      "- The latest trade time is Saturday, September 6, 00:15:00 UTC.\n",
      " \n"
     ]
    },
    {
     "name": "stderr",
     "output_type": "stream",
     "text": [
      "OPENAI_API_KEY is not set, skipping trace export\n"
     ]
    }
   ],
   "source": [
    "\n",
    "import asyncio\n",
    "\n",
    "if __name__ == \"__main__\":\n",
    "    await main()"
   ]
  }
 ],
 "metadata": {
  "kernelspec": {
   "display_name": "Python 3",
   "language": "python",
   "name": "python3"
  },
  "language_info": {
   "codemirror_mode": {
    "name": "ipython",
    "version": 3
   },
   "file_extension": ".py",
   "mimetype": "text/x-python",
   "name": "python",
   "nbconvert_exporter": "python",
   "pygments_lexer": "ipython3",
   "version": "3.11.6"
  }
 },
 "nbformat": 4,
 "nbformat_minor": 5
}
